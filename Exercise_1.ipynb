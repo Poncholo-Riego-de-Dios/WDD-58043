{
  "nbformat": 4,
  "nbformat_minor": 0,
  "metadata": {
    "colab": {
      "name": "Exercise 1",
      "provenance": [],
      "authorship_tag": "ABX9TyMPy2Q4fZfRsPZtccEJmw1c",
      "include_colab_link": true
    },
    "kernelspec": {
      "name": "python3",
      "display_name": "Python 3"
    },
    "language_info": {
      "name": "python"
    }
  },
  "cells": [
    {
      "cell_type": "markdown",
      "metadata": {
        "id": "view-in-github",
        "colab_type": "text"
      },
      "source": [
        "<a href=\"https://colab.research.google.com/github/Poncholo-Riego-de-Dios/WDD-58043/blob/main/Exercise_1.ipynb\" target=\"_parent\"><img src=\"https://colab.research.google.com/assets/colab-badge.svg\" alt=\"Open In Colab\"/></a>"
      ]
    },
    {
      "cell_type": "markdown",
      "source": [
        "#AREA OF A CIRCLE"
      ],
      "metadata": {
        "id": "7mIDPeSmlVPH"
      }
    },
    {
      "cell_type": "code",
      "execution_count": 25,
      "metadata": {
        "colab": {
          "base_uri": "https://localhost:8080/"
        },
        "id": "N7hw4mZ2lKvz",
        "outputId": "a4dda0e4-8977-4a67-f534-c648327977d0"
      },
      "outputs": [
        {
          "output_type": "stream",
          "name": "stdout",
          "text": [
            "78.5\n",
            "78.5\n"
          ]
        }
      ],
      "source": [
        "class formula:\n",
        "  def radius(self):\n",
        "    pass\n",
        "  def diameter(self):\n",
        "    pass\n",
        "class circle:\n",
        "  def __init__(self,pi,rad,dia):\n",
        "    self.pi = pi\n",
        "    self.rad = rad\n",
        "    self.dia = dia\n",
        "  def radius(self):\n",
        "    print(pi*(rad**2))\n",
        "  def diameter(self):\n",
        "    print(((pi*(dia**2))/4))\n",
        "\n",
        "Radi = circle(3.14,5,10)\n",
        "Radi.radius()\n",
        "\n",
        "Diam = circle(3.14,5,10)\n",
        "Diam.diameter()"
      ]
    },
    {
      "cell_type": "code",
      "source": [
        "\n",
        "pi = 3.14\n",
        "print(\"Do you want to use r or d?  \")\n",
        "ask = str(input())\n",
        "if ask==\"r\":\n",
        "  print(\"Insert value for radius:\")\n",
        "  rad = float(input())\n",
        "  area = pi*(rad**2)\n",
        "  print(\"Area of circle is: \",area)\n",
        "elif ask==\"d\":\n",
        "  print(\"Insert value for diameter:\")\n",
        "  dia = float(input())\n",
        "  area = ((pi*(dia**2))/4)\n",
        "  print(\"Area of circle is: \",area)"
      ],
      "metadata": {
        "colab": {
          "base_uri": "https://localhost:8080/"
        },
        "id": "wRBulCAHpQga",
        "outputId": "8274f0e2-08b4-46bd-d148-b6e58e04c27c"
      },
      "execution_count": 24,
      "outputs": [
        {
          "output_type": "stream",
          "name": "stdout",
          "text": [
            "Do you want to use r or d?  \n",
            "d\n",
            "Insert value for diameter:\n",
            "10\n",
            "Area of circle is:  78.5\n"
          ]
        }
      ]
    }
  ]
}